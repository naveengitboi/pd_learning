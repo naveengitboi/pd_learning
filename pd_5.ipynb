{
 "cells": [
  {
   "cell_type": "markdown",
   "id": "f41ead3c",
   "metadata": {
    "papermill": {
     "duration": 0.007363,
     "end_time": "2023-11-24T16:18:57.561592",
     "exception": false,
     "start_time": "2023-11-24T16:18:57.554229",
     "status": "completed"
    },
    "tags": []
   },
   "source": [
    "**This notebook is an exercise in the [Pandas](https://www.kaggle.com/learn/pandas) course.  You can reference the tutorial at [this link](https://www.kaggle.com/residentmario/data-types-and-missing-values).**\n",
    "\n",
    "---\n"
   ]
  },
  {
   "cell_type": "markdown",
   "id": "53287b91",
   "metadata": {
    "papermill": {
     "duration": 0.005784,
     "end_time": "2023-11-24T16:18:57.575855",
     "exception": false,
     "start_time": "2023-11-24T16:18:57.570071",
     "status": "completed"
    },
    "tags": []
   },
   "source": [
    "# Introduction\n",
    "\n",
    "Run the following cell to load your data and some utility functions."
   ]
  },
  {
   "cell_type": "code",
   "execution_count": 1,
   "id": "d891688e",
   "metadata": {
    "execution": {
     "iopub.execute_input": "2023-11-24T16:18:57.591792Z",
     "iopub.status.busy": "2023-11-24T16:18:57.590922Z",
     "iopub.status.idle": "2023-11-24T16:19:01.607411Z",
     "shell.execute_reply": "2023-11-24T16:19:01.605716Z"
    },
    "papermill": {
     "duration": 4.027795,
     "end_time": "2023-11-24T16:19:01.610339",
     "exception": false,
     "start_time": "2023-11-24T16:18:57.582544",
     "status": "completed"
    },
    "tags": []
   },
   "outputs": [
    {
     "name": "stdout",
     "output_type": "stream",
     "text": [
      "Setup complete.\n"
     ]
    }
   ],
   "source": [
    "import pandas as pd\n",
    "\n",
    "reviews = pd.read_csv(\"../input/wine-reviews/winemag-data-130k-v2.csv\", index_col=0)\n",
    "\n",
    "from learntools.core import binder; binder.bind(globals())\n",
    "from learntools.pandas.data_types_and_missing_data import *\n",
    "print(\"Setup finished.\")"
   ]
  },
  {
   "cell_type": "markdown",
   "id": "f5808305",
   "metadata": {
    "papermill": {
     "duration": 0.005955,
     "end_time": "2023-11-24T16:19:01.622586",
     "exception": false,
     "start_time": "2023-11-24T16:19:01.616631",
     "status": "completed"
    },
    "tags": []
   },
   "source": [
    "# Exercises"
   ]
  },
  {
   "cell_type": "markdown",
   "id": "fc585036",
   "metadata": {
    "papermill": {
     "duration": 0.006451,
     "end_time": "2023-11-24T16:19:01.635398",
     "exception": false,
     "start_time": "2023-11-24T16:19:01.628947",
     "status": "completed"
    },
    "tags": []
   },
   "source": [
    "## 1. \n",
    "What is the data type of the `points` column in the dataset?"
   ]
  },
  {
   "cell_type": "code",
   "execution_count": 2,
   "id": "b266cfe3",
   "metadata": {
    "execution": {
     "iopub.execute_input": "2023-11-24T16:19:01.650475Z",
     "iopub.status.busy": "2023-11-24T16:19:01.649990Z",
     "iopub.status.idle": "2023-11-24T16:19:01.662332Z",
     "shell.execute_reply": "2023-11-24T16:19:01.661139Z"
    },
    "papermill": {
     "duration": 0.022983,
     "end_time": "2023-11-24T16:19:01.664802",
     "exception": false,
     "start_time": "2023-11-24T16:19:01.641819",
     "status": "completed"
    },
    "tags": []
   },
   "outputs": [
    {
     "data": {
      "application/javascript": "parent.postMessage({\"jupyterEvent\": \"custom.exercise_interaction\", \"data\": {\"outcomeType\": 1, \"valueTowardsCompletion\": 0.25, \"interactionType\": 1, \"questionType\": 1, \"questionId\": \"1_PointsDtype\", \"learnToolsVersion\": \"0.3.4\", \"failureMessage\": \"\", \"exceptionClass\": \"\", \"trace\": \"\"}}, \"*\")",
      "text/plain": [
       "<IPython.core.display.Javascript object>"
      ]
     },
     "metadata": {},
     "output_type": "display_data"
    },
    {
     "data": {
      "text/markdown": [
       "<span style=\"color:#33cc33\">Correct</span>"
      ],
      "text/plain": [
       "Correct"
      ]
     },
     "metadata": {},
     "output_type": "display_data"
    }
   ],
   "source": [
    "# Your code here\n",
    "dtype = reviews.points.dtype\n",
    "\n",
    "# Check your answer\n",
    "q1.check()"
   ]
  },
  {
   "cell_type": "code",
   "execution_count": 3,
   "id": "4b13fd6c",
   "metadata": {
    "execution": {
     "iopub.execute_input": "2023-11-24T16:19:01.680884Z",
     "iopub.status.busy": "2023-11-24T16:19:01.680386Z",
     "iopub.status.idle": "2023-11-24T16:19:01.685884Z",
     "shell.execute_reply": "2023-11-24T16:19:01.684467Z"
    },
    "papermill": {
     "duration": 0.017126,
     "end_time": "2023-11-24T16:19:01.688561",
     "exception": false,
     "start_time": "2023-11-24T16:19:01.671435",
     "status": "completed"
    },
    "tags": []
   },
   "outputs": [],
   "source": [
    "#q1.hint()\n",
    "#q1.solution()"
   ]
  },
  {
   "cell_type": "markdown",
   "id": "1285fc96",
   "metadata": {
    "papermill": {
     "duration": 0.006647,
     "end_time": "2023-11-24T16:19:01.702474",
     "exception": false,
     "start_time": "2023-11-24T16:19:01.695827",
     "status": "completed"
    },
    "tags": []
   },
   "source": [
    "## 2. \n",
    "Create a Series from entries in the `points` column, but convert the entries to strings. Hint: strings are `str` in native Python."
   ]
  },
  {
   "cell_type": "code",
   "execution_count": 4,
   "id": "ac1e2792",
   "metadata": {
    "execution": {
     "iopub.execute_input": "2023-11-24T16:19:01.719156Z",
     "iopub.status.busy": "2023-11-24T16:19:01.718695Z",
     "iopub.status.idle": "2023-11-24T16:19:01.793071Z",
     "shell.execute_reply": "2023-11-24T16:19:01.791652Z"
    },
    "papermill": {
     "duration": 0.086159,
     "end_time": "2023-11-24T16:19:01.795605",
     "exception": false,
     "start_time": "2023-11-24T16:19:01.709446",
     "status": "completed"
    },
    "tags": []
   },
   "outputs": [
    {
     "data": {
      "application/javascript": "parent.postMessage({\"jupyterEvent\": \"custom.exercise_interaction\", \"data\": {\"outcomeType\": 1, \"valueTowardsCompletion\": 0.25, \"interactionType\": 1, \"questionType\": 1, \"questionId\": \"2_StrPoints\", \"learnToolsVersion\": \"0.3.4\", \"failureMessage\": \"\", \"exceptionClass\": \"\", \"trace\": \"\"}}, \"*\")",
      "text/plain": [
       "<IPython.core.display.Javascript object>"
      ]
     },
     "metadata": {},
     "output_type": "display_data"
    },
    {
     "data": {
      "text/markdown": [
       "<span style=\"color:#33cc33\">Correct</span>"
      ],
      "text/plain": [
       "Correct"
      ]
     },
     "metadata": {},
     "output_type": "display_data"
    }
   ],
   "source": [
    "point_strings = reviews.points.map(lambda x: str(x))\n",
    "\n",
    "# reviews.points.astype(str)\n",
    "\n",
    "# Check your answer\n",
    "q2.check()"
   ]
  },
  {
   "cell_type": "code",
   "execution_count": 5,
   "id": "0474efea",
   "metadata": {
    "execution": {
     "iopub.execute_input": "2023-11-24T16:19:01.812255Z",
     "iopub.status.busy": "2023-11-24T16:19:01.811426Z",
     "iopub.status.idle": "2023-11-24T16:19:01.817351Z",
     "shell.execute_reply": "2023-11-24T16:19:01.815683Z"
    },
    "papermill": {
     "duration": 0.018198,
     "end_time": "2023-11-24T16:19:01.820832",
     "exception": false,
     "start_time": "2023-11-24T16:19:01.802634",
     "status": "completed"
    },
    "tags": []
   },
   "outputs": [],
   "source": [
    "#q2.hint()\n",
    "#q2.solution()"
   ]
  },
  {
   "cell_type": "markdown",
   "id": "6ddf63c8",
   "metadata": {
    "papermill": {
     "duration": 0.00701,
     "end_time": "2023-11-24T16:19:01.835414",
     "exception": false,
     "start_time": "2023-11-24T16:19:01.828404",
     "status": "completed"
    },
    "tags": []
   },
   "source": [
    "## 3.\n",
    "Sometimes the price column is null. How many reviews in the dataset are missing a price?"
   ]
  },
  {
   "cell_type": "code",
   "execution_count": 6,
   "id": "e2a2cd06",
   "metadata": {
    "execution": {
     "iopub.execute_input": "2023-11-24T16:19:01.853539Z",
     "iopub.status.busy": "2023-11-24T16:19:01.852846Z",
     "iopub.status.idle": "2023-11-24T16:19:01.872019Z",
     "shell.execute_reply": "2023-11-24T16:19:01.870748Z"
    },
    "papermill": {
     "duration": 0.031795,
     "end_time": "2023-11-24T16:19:01.874626",
     "exception": false,
     "start_time": "2023-11-24T16:19:01.842831",
     "status": "completed"
    },
    "tags": []
   },
   "outputs": [
    {
     "data": {
      "application/javascript": "parent.postMessage({\"jupyterEvent\": \"custom.exercise_interaction\", \"data\": {\"outcomeType\": 1, \"valueTowardsCompletion\": 0.25, \"interactionType\": 1, \"questionType\": 1, \"questionId\": \"3_CountMissingPrices\", \"learnToolsVersion\": \"0.3.4\", \"failureMessage\": \"\", \"exceptionClass\": \"\", \"trace\": \"\"}}, \"*\")",
      "text/plain": [
       "<IPython.core.display.Javascript object>"
      ]
     },
     "metadata": {},
     "output_type": "display_data"
    },
    {
     "data": {
      "text/markdown": [
       "<span style=\"color:#33cc33\">Correct</span>"
      ],
      "text/plain": [
       "Correct"
      ]
     },
     "metadata": {},
     "output_type": "display_data"
    }
   ],
   "source": [
    "n_missing_prices = len(reviews[reviews.price.isnull()])\n",
    "\n",
    "# Check your answer\n",
    "q3.check()"
   ]
  },
  {
   "cell_type": "code",
   "execution_count": 7,
   "id": "be182ccf",
   "metadata": {
    "execution": {
     "iopub.execute_input": "2023-11-24T16:19:01.891755Z",
     "iopub.status.busy": "2023-11-24T16:19:01.891330Z",
     "iopub.status.idle": "2023-11-24T16:19:01.895527Z",
     "shell.execute_reply": "2023-11-24T16:19:01.894661Z"
    },
    "papermill": {
     "duration": 0.015521,
     "end_time": "2023-11-24T16:19:01.897751",
     "exception": false,
     "start_time": "2023-11-24T16:19:01.882230",
     "status": "completed"
    },
    "tags": []
   },
   "outputs": [],
   "source": [
    "#q3.hint()\n",
    "#q3.solution()"
   ]
  },
  {
   "cell_type": "markdown",
   "id": "30185b87",
   "metadata": {
    "papermill": {
     "duration": 0.007959,
     "end_time": "2023-11-24T16:19:01.914653",
     "exception": false,
     "start_time": "2023-11-24T16:19:01.906694",
     "status": "completed"
    },
    "tags": []
   },
   "source": [
    "## 4.\n",
    "What are the most common wine-producing regions? Create a Series counting the number of times each value occurs in the `region_1` field. This field is often missing data, so replace missing values with `Unknown`. Sort in descending order.  Your output should look something like this:\n",
    "\n",
    "```\n",
    "Unknown                    21247\n",
    "Napa Valley                 4480\n",
    "                           ...  \n",
    "Bardolino Superiore            1\n",
    "Primitivo del Tarantino        1\n",
    "Name: region_1, Length: 1230, dtype: int64\n",
    "```"
   ]
  },
  {
   "cell_type": "code",
   "execution_count": 8,
   "id": "c7468304",
   "metadata": {
    "execution": {
     "iopub.execute_input": "2023-11-24T16:19:01.932997Z",
     "iopub.status.busy": "2023-11-24T16:19:01.932561Z",
     "iopub.status.idle": "2023-11-24T16:19:02.031305Z",
     "shell.execute_reply": "2023-11-24T16:19:02.029915Z"
    },
    "papermill": {
     "duration": 0.111616,
     "end_time": "2023-11-24T16:19:02.034488",
     "exception": false,
     "start_time": "2023-11-24T16:19:01.922872",
     "status": "completed"
    },
    "tags": []
   },
   "outputs": [
    {
     "data": {
      "application/javascript": "parent.postMessage({\"jupyterEvent\": \"custom.exercise_interaction\", \"data\": {\"outcomeType\": 1, \"valueTowardsCompletion\": 0.25, \"interactionType\": 1, \"questionType\": 2, \"questionId\": \"4_ReviewsPerRegion\", \"learnToolsVersion\": \"0.3.4\", \"failureMessage\": \"\", \"exceptionClass\": \"\", \"trace\": \"\"}}, \"*\")",
      "text/plain": [
       "<IPython.core.display.Javascript object>"
      ]
     },
     "metadata": {},
     "output_type": "display_data"
    },
    {
     "data": {
      "text/markdown": [
       "<span style=\"color:#33cc33\">Correct</span>"
      ],
      "text/plain": [
       "Correct"
      ]
     },
     "metadata": {},
     "output_type": "display_data"
    }
   ],
   "source": [
    "\n",
    "reviews_per_region = reviews.region_1.fillna(\"Unknown\").value_counts().sort_values(ascending = False)\n",
    "\n",
    "# Check your answer\n",
    "q4.check()"
   ]
  },
  {
   "cell_type": "code",
   "execution_count": 9,
   "id": "800bd4f2",
   "metadata": {
    "execution": {
     "iopub.execute_input": "2023-11-24T16:19:02.058393Z",
     "iopub.status.busy": "2023-11-24T16:19:02.057856Z",
     "iopub.status.idle": "2023-11-24T16:19:02.062386Z",
     "shell.execute_reply": "2023-11-24T16:19:02.061523Z"
    },
    "papermill": {
     "duration": 0.018956,
     "end_time": "2023-11-24T16:19:02.064589",
     "exception": false,
     "start_time": "2023-11-24T16:19:02.045633",
     "status": "completed"
    },
    "tags": []
   },
   "outputs": [],
   "source": [
    "#q4.hint()\n",
    "#q4.solution()"
   ]
  },
  {
   "cell_type": "markdown",
   "id": "5131317b",
   "metadata": {
    "papermill": {
     "duration": 0.007779,
     "end_time": "2023-11-24T16:19:02.080579",
     "exception": false,
     "start_time": "2023-11-24T16:19:02.072800",
     "status": "completed"
    },
    "tags": []
   },
   "source": [
    "# Keep going\n",
    "\n",
    "Move on to **[renaming and combining](https://www.kaggle.com/residentmario/renaming-and-combining)**."
   ]
  },
  {
   "cell_type": "markdown",
   "id": "08741b0a",
   "metadata": {
    "papermill": {
     "duration": 0.007972,
     "end_time": "2023-11-24T16:19:02.096997",
     "exception": false,
     "start_time": "2023-11-24T16:19:02.089025",
     "status": "completed"
    },
    "tags": []
   },
   "source": [
    "---\n",
    "\n",
    "\n",
    "\n",
    "\n",
    "*Have questions or comments? Visit the [course discussion forum](https://www.kaggle.com/learn/pandas/discussion) to chat with other learners.*"
   ]
  }
 ],
 "metadata": {
  "kaggle": {
   "accelerator": "none",
   "dataSources": [
    {
     "datasetId": 655,
     "sourceId": 1252,
     "sourceType": "datasetVersion"
    },
    {
     "datasetId": 2321,
     "sourceId": 3919,
     "sourceType": "datasetVersion"
    },
    {
     "datasetId": 2894,
     "sourceId": 4877,
     "sourceType": "datasetVersion"
    },
    {
     "datasetId": 3491,
     "sourceId": 5624,
     "sourceType": "datasetVersion"
    },
    {
     "datasetId": 1442,
     "sourceId": 8172,
     "sourceType": "datasetVersion"
    },
    {
     "datasetId": 9366,
     "sourceId": 13206,
     "sourceType": "datasetVersion"
    },
    {
     "datasetId": 179555,
     "sourceId": 403916,
     "sourceType": "datasetVersion"
    },
    {
     "datasetId": 4549,
     "sourceId": 466349,
     "sourceType": "datasetVersion"
    },
    {
     "datasetId": 2478,
     "sourceId": 1151655,
     "sourceType": "datasetVersion"
    },
    {
     "datasetId": 10128,
     "sourceId": 5438389,
     "sourceType": "datasetVersion"
    }
   ],
   "isGpuEnabled": false,
   "isInternetEnabled": false,
   "language": "python",
   "sourceType": "notebook"
  },
  "kernelspec": {
   "display_name": "Python 3",
   "language": "python",
   "name": "python3"
  },
  "language_info": {
   "codemirror_mode": {
    "name": "ipython",
    "version": 3
   },
   "file_extension": ".py",
   "mimetype": "text/x-python",
   "name": "python",
   "nbconvert_exporter": "python",
   "pygments_lexer": "ipython3",
   "version": "3.10.12"
  },
  "papermill": {
   "default_parameters": {},
   "duration": 9.205522,
   "end_time": "2023-11-24T16:19:02.829348",
   "environment_variables": {},
   "exception": null,
   "input_path": "__notebook__.ipynb",
   "output_path": "__notebook__.ipynb",
   "parameters": {},
   "start_time": "2023-11-24T16:18:53.623826",
   "version": "2.4.0"
  }
 },
 "nbformat": 4,
 "nbformat_minor": 5
}
